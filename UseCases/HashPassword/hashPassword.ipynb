{
 "cells": [
  {
   "cell_type": "markdown",
   "id": "fc922819",
   "metadata": {},
   "source": [
    "# Hash funkcije u autentifikaciji korisnika - Čuvanje lozinki\n",
    "# Koristićemo biblioteku bcrypt za hashiranje lozinki i saltovanje\n",
    "\n",
    "%pip install bcrypt"
   ]
  },
  {
   "cell_type": "code",
   "execution_count": 3,
   "id": "adbcd007",
   "metadata": {},
   "outputs": [
    {
     "name": "stdout",
     "output_type": "stream",
     "text": [
      "Requirement already satisfied: bcrypt in c:\\users\\asus\\appdata\\local\\programs\\python\\python310\\lib\\site-packages (4.3.0)\n",
      "Note: you may need to restart the kernel to use updated packages.\n"
     ]
    },
    {
     "name": "stderr",
     "output_type": "stream",
     "text": [
      "WARNING: Error parsing dependencies of pytorch-lightning: .* suffix can only be used with `==` or `!=` operators\n",
      "    torch (>=1.8.*)\n",
      "           ~~~~~~^\n",
      "\n",
      "[notice] A new release of pip is available: 25.0 -> 25.0.1\n",
      "[notice] To update, run: python.exe -m pip install --upgrade pip\n"
     ]
    }
   ],
   "source": [
    "%pip install bcrypt\n",
    "import bcrypt\n",
    "\n",
    "# Funkcija za hashiranje lozinke prilikom registracije\n",
    "def hash_password(password: str) -> str:\n",
    "    \"\"\"\n",
    "    Hashira lozinku koristeći bcrypt biblioteku.\n",
    "    \"\"\"\n",
    "    # Generiši salt\n",
    "    salt = bcrypt.gensalt()\n",
    "    # Hashiraj lozinku sa salt-om\n",
    "    hashed_password = bcrypt.hashpw(password.encode('utf-8'), salt)\n",
    "    return hashed_password"
   ]
  },
  {
   "cell_type": "code",
   "execution_count": 4,
   "id": "90b718a4",
   "metadata": {},
   "outputs": [
    {
     "name": "stdout",
     "output_type": "stream",
     "text": [
      "Hashirana lozinka: b'$2b$12$qGjMt43hIq4L.Hn5KOQJy.JUxIlfXNtoaZY2mKNUY08F388z6ZAqS'\n"
     ]
    }
   ],
   "source": [
    "# Testiranje hashiranja lozinke\n",
    "password = \"mojaSuperLozinka123\"\n",
    "hashed_password = hash_password(password)\n",
    "\n",
    "print(f\"Hashirana lozinka: {hashed_password}\")"
   ]
  },
  {
   "cell_type": "code",
   "execution_count": 5,
   "id": "a69e31d3",
   "metadata": {},
   "outputs": [],
   "source": [
    "# Funkcija za provjeru lozinke prilikom logovanja\n",
    "def check_password(stored_hash: str, input_password: str) -> bool:\n",
    "    \"\"\"\n",
    "    Provjerava da li unesena lozinka odgovara sa hash-om.\n",
    "    \"\"\"\n",
    "    if bcrypt.checkpw(input_password.encode('utf-8'), stored_hash):\n",
    "        return True\n",
    "    else:\n",
    "        return False"
   ]
  },
  {
   "cell_type": "code",
   "execution_count": 7,
   "id": "406e5183",
   "metadata": {},
   "outputs": [
    {
     "name": "stdout",
     "output_type": "stream",
     "text": [
      "Prijava uspješna!\n"
     ]
    }
   ],
   "source": [
    "# Testiranje provjere lozinke\n",
    "input_password = \"mojaSuperLozinka123\"\n",
    "is_correct = check_password(hashed_password, input_password)\n",
    "\n",
    "if is_correct:\n",
    "    print(\"Prijava uspješna!\")\n",
    "else:\n",
    "    print(\"Pogrešna lozinka!\")\n"
   ]
  },
  {
   "cell_type": "markdown",
   "id": "bc7b0f38",
   "metadata": {},
   "source": [
    "# Detaljno objašnjenje:\n",
    "## Hashiranje lozinke:\n",
    "\n",
    "Funkcija hash_password uzima običnu lozinku, generiše salt pomoću bcrypt.gensalt() i zatim hashira lozinku uz pomoć bcrypt.hashpw().\n",
    "\n",
    "Na kraju, vraća hash koji je siguran za skladištenje u bazi.\n",
    "\n",
    "## Provjera lozinke:\n",
    "\n",
    "Funkcija check_password uzima sačuvani hash lozinke i upoređuje ga sa unijetom lozinkom.\n",
    "\n",
    "Ako unesena lozinka odgovara sa hash-om, logovanje je uspješno, inače se smatra da je lozinka pogrešna.\n",
    "\n",
    "## Kako koristiti:\n",
    "Prvo, registrovanje korisnika će se završiti sa hashiranjem lozinke.\n",
    "\n",
    "Zatim, prilikom logovanja, korisnik unosi svoju lozinku koja se uspoređuje sa hash-om sačuvanim u bazi podataka."
   ]
  }
 ],
 "metadata": {
  "kernelspec": {
   "display_name": "Python 3",
   "language": "python",
   "name": "python3"
  },
  "language_info": {
   "codemirror_mode": {
    "name": "ipython",
    "version": 3
   },
   "file_extension": ".py",
   "mimetype": "text/x-python",
   "name": "python",
   "nbconvert_exporter": "python",
   "pygments_lexer": "ipython3",
   "version": "3.10.5"
  }
 },
 "nbformat": 4,
 "nbformat_minor": 5
}

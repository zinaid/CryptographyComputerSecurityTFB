{
 "cells": [
  {
   "cell_type": "markdown",
   "id": "c963ca90",
   "metadata": {},
   "source": [
    "# AES Šifrovanje i Dešifrovanje Fajla u Pythonu"
   ]
  },
  {
   "cell_type": "markdown",
   "id": "aaafc44e",
   "metadata": {},
   "source": [
    "# Problem\n",
    "Imamo fajl koji sadrži povjerljive informacije, i želimo da ga šifrujemo tako da se može dešifrovati samo pomoću tajnog ključa. Koristimo AES (Advanced Encryption Standard),\n",
    "simetrični algoritam za enkripciju koji zahtjeva da oba korisnika imaju isti ključ."
   ]
  },
  {
   "cell_type": "markdown",
   "id": "470cdba9",
   "metadata": {},
   "source": [
    "# Ciljevi:\n",
    "# - Šifrovati fajl `secret.txt` koristeći AES\n",
    "# - Sačuvati šifrovani fajl kao `secret.txt.enc`\n",
    "# - Dešifrovati i uporediti sa originalnim fajlom"
   ]
  },
  {
   "cell_type": "code",
   "execution_count": 2,
   "id": "7dc6f51b",
   "metadata": {},
   "outputs": [
    {
     "name": "stdout",
     "output_type": "stream",
     "text": [
      "Requirement already satisfied: pycryptodome in c:\\users\\asus\\appdata\\local\\programs\\python\\python310\\lib\\site-packages (3.22.0)\n",
      "Note: you may need to restart the kernel to use updated packages.\n"
     ]
    },
    {
     "name": "stderr",
     "output_type": "stream",
     "text": [
      "WARNING: Error parsing dependencies of pytorch-lightning: .* suffix can only be used with `==` or `!=` operators\n",
      "    torch (>=1.8.*)\n",
      "           ~~~~~~^\n",
      "\n",
      "[notice] A new release of pip is available: 25.0 -> 25.0.1\n",
      "[notice] To update, run: python.exe -m pip install --upgrade pip\n"
     ]
    }
   ],
   "source": [
    "%pip install pycryptodome"
   ]
  },
  {
   "cell_type": "code",
   "execution_count": 3,
   "id": "c8868e6e",
   "metadata": {},
   "outputs": [
    {
     "name": "stdout",
     "output_type": "stream",
     "text": [
      "Fajl 'secret.txt' kreiran.\n"
     ]
    }
   ],
   "source": [
    "# 1. Kreiranje test fajla koji želimo da šifrujemo\n",
    "with open(\"secret.txt\", \"w\") as f:\n",
    "    f.write(\"lozinka: MojSuperTajniPassword123\\nPIN: 1234\")\n",
    "    \n",
    "print(\"Fajl 'secret.txt' kreiran.\")"
   ]
  },
  {
   "cell_type": "code",
   "execution_count": 1,
   "id": "60b77784",
   "metadata": {},
   "outputs": [],
   "source": [
    "# 2. Uvoz biblioteka\n",
    "from Crypto.Cipher import AES\n",
    "from Crypto.Random import get_random_bytes\n",
    "from Crypto.Util.Padding import pad, unpad"
   ]
  },
  {
   "cell_type": "code",
   "execution_count": 2,
   "id": "7c2f43b9",
   "metadata": {},
   "outputs": [],
   "source": [
    "def encrypt_file(input_file, output_file, key):\n",
    "    # Učitavamo sadržaj fajla\n",
    "    with open(input_file, \"rb\") as f:\n",
    "        data = f.read()\n",
    "    \n",
    "    # Generišemo slučajan IV (Initialization Vector)\n",
    "    iv = get_random_bytes(16)\n",
    "\n",
    "    # Inicijalizujemo AES u CBC režimu sa datim ključem i IV\n",
    "    cipher = AES.new(key, AES.MODE_CBC, iv)\n",
    "    \n",
    "    # Šifrujemo podatke (potrebno ih je prethodno \"napakovati\")\n",
    "    ciphertext = cipher.encrypt(pad(data, AES.block_size))\n",
    "\n",
    "    # Čuvamo IV zajedno sa šifrovanim sadržajem\n",
    "    with open(output_file, \"wb\") as f:\n",
    "        f.write(iv + ciphertext)\n",
    "    \n",
    "    print(f\"Fajl '{input_file}' je šifrovan i sačuvan kao '{output_file}'.\")"
   ]
  },
  {
   "cell_type": "code",
   "execution_count": 3,
   "id": "d67a225d",
   "metadata": {},
   "outputs": [],
   "source": [
    "# 4. Funkcija za dešifrovanje AES šifrovanog fajla\n",
    "\n",
    "def decrypt_file(input_file, output_file, key):\n",
    "    # Učitavamo IV i šifrovani sadržaj\n",
    "    with open(input_file, \"rb\") as f:\n",
    "        iv = f.read(16)\n",
    "        ciphertext = f.read()\n",
    "\n",
    "    # Inicijalizujemo AES za dešifrovanje\n",
    "    cipher = AES.new(key, AES.MODE_CBC, iv)\n",
    "\n",
    "    # Dešifrujemo i uklanjamo padding\n",
    "    plaintext = unpad(cipher.decrypt(ciphertext), AES.block_size)\n",
    "\n",
    "    # Sačuvamo rezultat\n",
    "    with open(output_file, \"wb\") as f:\n",
    "        f.write(plaintext)\n",
    "\n",
    "    print(f\"Fajl '{input_file}' je dešifrovan i sačuvan kao '{output_file}'.\")\n"
   ]
  },
  {
   "cell_type": "code",
   "execution_count": 4,
   "id": "cd03a0d6",
   "metadata": {},
   "outputs": [
    {
     "name": "stdout",
     "output_type": "stream",
     "text": [
      "AES ključ generisan (256-bitni): c3dbb4c87c8e1bd43d42707b50b0e2c614c002768742afbf8c31f4ea6e39cc21\n"
     ]
    }
   ],
   "source": [
    "key = get_random_bytes(32)\n",
    "print(f\"AES ključ generisan ({len(key)*8}-bitni): {key.hex()}\")"
   ]
  },
  {
   "cell_type": "code",
   "execution_count": 5,
   "id": "cbe2dc73",
   "metadata": {},
   "outputs": [
    {
     "name": "stdout",
     "output_type": "stream",
     "text": [
      "Fajl 'secret.txt' je šifrovan i sačuvan kao 'secret.txt.enc'.\n"
     ]
    }
   ],
   "source": [
    "encrypt_file(\"secret.txt\", \"secret.txt.enc\", key)"
   ]
  },
  {
   "cell_type": "code",
   "execution_count": 6,
   "id": "d5472905",
   "metadata": {},
   "outputs": [
    {
     "name": "stdout",
     "output_type": "stream",
     "text": [
      "Fajl 'secret.txt.enc' je dešifrovan i sačuvan kao 'secret_decrypted.txt'.\n"
     ]
    }
   ],
   "source": [
    "decrypt_file(\"secret.txt.enc\", \"secret_decrypted.txt\", key)"
   ]
  },
  {
   "cell_type": "code",
   "execution_count": 7,
   "id": "670d32a8",
   "metadata": {},
   "outputs": [
    {
     "name": "stdout",
     "output_type": "stream",
     "text": [
      "Fajl uspešno dešifrovan - identičan je originalu.\n"
     ]
    }
   ],
   "source": [
    "with open(\"secret.txt\", \"rb\") as original, open(\"secret_decrypted.txt\", \"rb\") as decrypted:\n",
    "    original_data = original.read()\n",
    "    decrypted_data = decrypted.read()\n",
    "\n",
    "    if original_data == decrypted_data:\n",
    "        print(\"Fajl uspešno dešifrovan - identičan je originalu.\")\n",
    "    else:\n",
    "        print(\"Greška: Fajl nakon dešifrovanja NIJE identičan originalu.\")"
   ]
  },
  {
   "cell_type": "markdown",
   "id": "8ab2f6cc",
   "metadata": {},
   "source": [
    "AES (CBC mod) zahtjeva da se podaci dijele u blokove od 16 bajtova. Zato koristimo pad() i unpad() da obezbjedimo ispravnu veličinu.\n",
    "\n",
    "IV (Initialization Vector) mora biti nasumičan i jedinstven za svaki fajl, ali nije tajan. Zato ga upisujemo u fajl prije šifrovanih podataka.\n",
    "\n",
    "Tajni ključ (key) mora se čuvati bezbjedno. Ko god ima taj ključ, može dešifrovati fajl."
   ]
  }
 ],
 "metadata": {
  "kernelspec": {
   "display_name": "Python 3",
   "language": "python",
   "name": "python3"
  },
  "language_info": {
   "codemirror_mode": {
    "name": "ipython",
    "version": 3
   },
   "file_extension": ".py",
   "mimetype": "text/x-python",
   "name": "python",
   "nbconvert_exporter": "python",
   "pygments_lexer": "ipython3",
   "version": "3.10.5"
  }
 },
 "nbformat": 4,
 "nbformat_minor": 5
}

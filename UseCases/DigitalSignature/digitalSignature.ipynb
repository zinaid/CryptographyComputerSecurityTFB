{
 "cells": [
  {
   "cell_type": "markdown",
   "id": "dd8ed42b",
   "metadata": {},
   "source": [
    "# Digitalni Potpis sa RSA algoritmom\n",
    "\n",
    "# Problem:\n",
    "Kako možemo da osiguramo da poruka (ili fajl) dolazi zaista od određene osobe i da nije izmjenjena u međuvremenu? To radimo digitalnim potpisivanjem.\n",
    "\n",
    "# Cilj:\n",
    "- Generisati RSA ključeve (privatni i javni)\n",
    "- Napraviti potpis teksta koristeći privatni ključ\n",
    "- Verifikovati potpis koristeći javni ključ\n",
    "\n",
    "# Potrebna biblioteka\n",
    "%pip install pycryptodome\n"
   ]
  },
  {
   "cell_type": "code",
   "execution_count": 1,
   "id": "330f2d1d",
   "metadata": {},
   "outputs": [],
   "source": [
    "from Crypto.PublicKey import RSA\n",
    "from Crypto.Signature import pkcs1_15\n",
    "from Crypto.Hash import SHA256"
   ]
  },
  {
   "cell_type": "code",
   "execution_count": 2,
   "id": "799eba43",
   "metadata": {},
   "outputs": [
    {
     "name": "stdout",
     "output_type": "stream",
     "text": [
      "Ključevi generisani i sačuvani kao 'private.pem' i 'public.pem'\n"
     ]
    }
   ],
   "source": [
    "# 1. Generisanje RSA ključeva\n",
    "\n",
    "key = RSA.generate(2048)\n",
    "private_key = key.export_key()\n",
    "public_key = key.publickey().export_key()\n",
    "\n",
    "# Snimamo ih u fajlove za kasniju upotrebu\n",
    "with open(\"private.pem\", \"wb\") as f:\n",
    "    f.write(private_key)\n",
    "\n",
    "with open(\"public.pem\", \"wb\") as f:\n",
    "    f.write(public_key)\n",
    "\n",
    "print(\"Ključevi generisani i sačuvani kao 'private.pem' i 'public.pem'\")"
   ]
  },
  {
   "cell_type": "code",
   "execution_count": 3,
   "id": "c6975c33",
   "metadata": {},
   "outputs": [
    {
     "name": "stdout",
     "output_type": "stream",
     "text": [
      "Poruka sačuvana u 'message.txt'\n"
     ]
    }
   ],
   "source": [
    "# 2. Pravimo test poruku koju ćemo potpisati\n",
    "\n",
    "message = b\"Ovo je veoma vazna poruka koju treba potpisati digitalno.\"\n",
    "\n",
    "with open(\"message.txt\", \"wb\") as f:\n",
    "    f.write(message)\n",
    "\n",
    "print(\"Poruka sačuvana u 'message.txt'\")"
   ]
  },
  {
   "cell_type": "code",
   "execution_count": 7,
   "id": "788479fd",
   "metadata": {},
   "outputs": [
    {
     "name": "stdout",
     "output_type": "stream",
     "text": [
      "Poruka potpisana i potpis sačuvan u 'signature.sig'\n"
     ]
    }
   ],
   "source": [
    "# 3. Potpisivanje poruke privatnim ključem\n",
    "\n",
    "# Učitavamo privatni ključ\n",
    "with open(\"private.pem\", \"rb\") as f:\n",
    "    private_key = RSA.import_key(f.read())\n",
    "\n",
    "# Učitavamo poruku\n",
    "with open(\"message.txt\", \"rb\") as f:\n",
    "    message = f.read()\n",
    "\n",
    "# Pravljenje hash-a poruke\n",
    "hash_obj = SHA256.new(message)\n",
    "\n",
    "# Potpisivanje\n",
    "signature = pkcs1_15.new(private_key).sign(hash_obj)\n",
    "\n",
    "# Čuvanje potpisa\n",
    "with open(\"signature.sig\", \"wb\") as f:\n",
    "    f.write(signature)\n",
    "\n",
    "print(\"Poruka potpisana i potpis sačuvan u 'signature.sig'\")\n"
   ]
  },
  {
   "cell_type": "code",
   "execution_count": 6,
   "id": "295fd843",
   "metadata": {},
   "outputs": [
    {
     "name": "stdout",
     "output_type": "stream",
     "text": [
      "Nevalidan potpis! Poruka je izmjenjena ili nije od očekivanog pošiljaoca.\n"
     ]
    }
   ],
   "source": [
    "# 4. Verifikacija potpisa javnim ključem\n",
    "\n",
    "# Učitavamo javni ključ\n",
    "with open(\"public.pem\", \"rb\") as f:\n",
    "    public_key = RSA.import_key(f.read())\n",
    "\n",
    "# Učitavamo potpis i poruku\n",
    "with open(\"message.txt\", \"rb\") as f:\n",
    "    message = f.read()\n",
    "\n",
    "with open(\"signature.sig\", \"rb\") as f:\n",
    "    signature = f.read()\n",
    "\n",
    "# Pravimo hash poruke\n",
    "hash_obj = SHA256.new(message)\n",
    "\n",
    "# Verifikacija potpisa\n",
    "try:\n",
    "    pkcs1_15.new(public_key).verify(hash_obj, signature)\n",
    "    print(\"Potpis je validan! Poruka nije izmjenjena.\")\n",
    "except (ValueError, TypeError):\n",
    "    print(\"Nevalidan potpis! Poruka je izmjenjena ili nije od očekivanog pošiljaoca.\")\n"
   ]
  },
  {
   "cell_type": "markdown",
   "id": "0b358c97",
   "metadata": {},
   "source": [
    "# Objašnjenje:\n",
    "Digitalni potpis radi tako što koristiš privatni ključ da potpišeš hash poruke.\n",
    "\n",
    "Kasnije, bilo ko može da koristi javnim ključ da provjeri da li je potpis važeći i da poruka nije mijenjana.\n",
    "\n",
    "Potpis se ne pravi nad čitavom porukom direktno, već nad njenim SHA-256 hash-om.\n",
    "\n",
    "Ako se poruka promjeni, njen hash će se promjeniti, i verifikacija će pasti.\n",
    "\n",
    "# Šta ovaj sistem obezbeđuje?\n",
    "Autentičnost: potpis dokazuje da je pošiljalac imao privatni ključ.\n",
    "\n",
    "Integritet: promjena poruke mijenja hash, pa verifikacija ne uspjeva.\n",
    "\n",
    "Neporicanje (non-repudiation): pošiljalac ne može tvrditi da nije on poslao potpisanu poruku."
   ]
  },
  {
   "cell_type": "markdown",
   "id": "d3c67ba4",
   "metadata": {},
   "source": [
    "## Digitalni potpis\n",
    "* Potpisuje dokument \n",
    "* Koristi privatni ključ \n",
    "* Dokazuje autentičnost i integritet podataka \n",
    "* Pravi ga vlasnik ključa \n",
    "* Može se verifikovati odmah \n",
    "\n",
    "## Digitalni certifikat\n",
    "* Potvrđuje identitet\n",
    "* Sadrži javni ključ\n",
    "* Povezuje javni ključ sa identitetom\n",
    "* Izdaje ga Certificate Authority \n",
    "* Moraš provjeriti da li je CA pouzdana"
   ]
  }
 ],
 "metadata": {
  "kernelspec": {
   "display_name": "Python 3",
   "language": "python",
   "name": "python3"
  },
  "language_info": {
   "codemirror_mode": {
    "name": "ipython",
    "version": 3
   },
   "file_extension": ".py",
   "mimetype": "text/x-python",
   "name": "python",
   "nbconvert_exporter": "python",
   "pygments_lexer": "ipython3",
   "version": "3.10.5"
  }
 },
 "nbformat": 4,
 "nbformat_minor": 5
}

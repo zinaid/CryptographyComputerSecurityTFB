{
 "cells": [
  {
   "cell_type": "markdown",
   "id": "403e59d5",
   "metadata": {},
   "source": [
    "# DIFFIE HELLMAN ALGORITAM\n",
    "\n",
    "Alice i Bob žele da se dogovore oko zajedničkog tajnog ključa koji mogu koristiti npr. za AES šifrovanje, ali ne žele da ga eksplicitno pošalju, jer ih neko može presresti.\n",
    "\n",
    "Koriste Diffie-Hellman algoritam koji omogućava da izračunaju isti ključ koristeći javno poznate vrijednosti, ali bez direktne razmjene samog tajnog ključa."
   ]
  },
  {
   "cell_type": "code",
   "execution_count": 1,
   "id": "86a758e9",
   "metadata": {},
   "outputs": [
    {
     "name": "stdout",
     "output_type": "stream",
     "text": [
      "Javne vrijednosti: p = 23, g = 5\n",
      "Alice šalje Bobu: A = 6\n",
      "Bob šalje Alice: B = 11\n",
      "Alice izračunala tajni ključ: 16\n",
      "Bob izračunao tajni ključ:   16\n",
      "Tajni ključevi se poklapaju!\n"
     ]
    }
   ],
   "source": [
    "import random\n",
    "\n",
    "# === 1. Javne (poznate) vrijednosti koje svi znaju ===\n",
    "# p je veliki prost broj, g je primitivni korijen modula p\n",
    "p = 23  # u praksi ovo bi bio ogroman broj, npr. 2048-bitni\n",
    "g = 5\n",
    "\n",
    "print(f\"Javne vrijednosti: p = {p}, g = {g}\")\n",
    "\n",
    "# === 2. Tajne vrijednosti koje korisnici biraju ===\n",
    "# Alice bira a, Bob bira b\n",
    "alice_private = random.randint(1, p-2)\n",
    "bob_private = random.randint(1, p-2)\n",
    "\n",
    "# === 3. Izračunavanje javnih ključeva ===\n",
    "# A = g^a mod p, B = g^b mod p\n",
    "alice_public = pow(g, alice_private, p)\n",
    "bob_public = pow(g, bob_private, p)\n",
    "\n",
    "print(f\"Alice šalje Bobu: A = {alice_public}\")\n",
    "print(f\"Bob šalje Alice: B = {bob_public}\")\n",
    "\n",
    "# === 4. Izračunavanje zajedničkog tajnog ključa ===\n",
    "# Alice računa: s = B^a mod p\n",
    "# Bob računa: s = A^b mod p\n",
    "\n",
    "alice_shared_secret = pow(bob_public, alice_private, p)\n",
    "bob_shared_secret = pow(alice_public, bob_private, p)\n",
    "\n",
    "print(f\"Alice izračunala tajni ključ: {alice_shared_secret}\")\n",
    "print(f\"Bob izračunao tajni ključ:   {bob_shared_secret}\")\n",
    "\n",
    "# === 5. Provjera ===\n",
    "print(\"Tajni ključevi se poklapaju!\" if alice_shared_secret == bob_shared_secret else \"Nešto nije u redu.\")\n"
   ]
  }
 ],
 "metadata": {
  "kernelspec": {
   "display_name": "Python 3",
   "language": "python",
   "name": "python3"
  },
  "language_info": {
   "codemirror_mode": {
    "name": "ipython",
    "version": 3
   },
   "file_extension": ".py",
   "mimetype": "text/x-python",
   "name": "python",
   "nbconvert_exporter": "python",
   "pygments_lexer": "ipython3",
   "version": "3.10.5"
  }
 },
 "nbformat": 4,
 "nbformat_minor": 5
}

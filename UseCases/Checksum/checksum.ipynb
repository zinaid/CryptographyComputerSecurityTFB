{
 "cells": [
  {
   "cell_type": "markdown",
   "id": "37720e3b",
   "metadata": {},
   "source": [
    "# CHECKSUM"
   ]
  },
  {
   "cell_type": "code",
   "execution_count": 1,
   "id": "2ebd293e",
   "metadata": {},
   "outputs": [
    {
     "name": "stdout",
     "output_type": "stream",
     "text": [
      "Originalni SHA-256 checksum fajla: 20ac4eea95e143bbc7c99b9b927fc49b68c5ff598be50b4929cc0ef3d542b629\n"
     ]
    }
   ],
   "source": [
    "# Uvoz potrebnih biblioteka\n",
    "import hashlib\n",
    "\n",
    "# Funkcija za izračunavanje SHA-256 checksum-a fajla\n",
    "def calculate_sha256(file_path: str) -> str:\n",
    "    \"\"\"\n",
    "    Izračunava SHA-256 checksum fajla.\n",
    "    \"\"\"\n",
    "    sha256_hash = hashlib.sha256()  # Kreiranje SHA-256 objekta\n",
    "    \n",
    "    # Otvorimo fajl u binarnom režimu\n",
    "    with open(file_path, \"rb\") as f:\n",
    "        # Čitanje fajla u blokovima od 4kB\n",
    "        for byte_block in iter(lambda: f.read(4096), b\"\"):\n",
    "            sha256_hash.update(byte_block)  # Ažuriranje hash-a sa svakim blokom\n",
    "    \n",
    "    # Vraća hexadecimalnu predstavu SHA-256 checksum-a\n",
    "    return sha256_hash.hexdigest()\n",
    "\n",
    "# Funkcija za verifikaciju integriteta fajla pomoću SHA-256 checksum-a\n",
    "def verify_sha256_integrity(original_checksum: str, file_path: str) -> bool:\n",
    "    \"\"\"\n",
    "    Provjerava da li je fajl promjenjen upoređujući njegov trenutni SHA-256 checksum sa originalnim checksum-om.\n",
    "    \"\"\"\n",
    "    current_checksum = calculate_sha256(file_path)\n",
    "    \n",
    "    if current_checksum == original_checksum:\n",
    "        return True\n",
    "    else:\n",
    "        return False\n",
    "\n",
    "# Putanja do fajla koji želimo da provjerimo\n",
    "file_path = \"example.txt\"\n",
    "\n",
    "# Prvo izračunavamo SHA-256 checksum fajla\n",
    "original_checksum = calculate_sha256(file_path)\n",
    "print(f\"Originalni SHA-256 checksum fajla: {original_checksum}\")\n"
   ]
  },
  {
   "cell_type": "code",
   "execution_count": 3,
   "id": "c252c601",
   "metadata": {},
   "outputs": [
    {
     "name": "stdout",
     "output_type": "stream",
     "text": [
      "Fajl je promijenjen!\n"
     ]
    }
   ],
   "source": [
    "\n",
    "# Sada provjeravamo da li je fajl promijenjen\n",
    "is_integrity_ok = verify_sha256_integrity(original_checksum, file_path)\n",
    "\n",
    "if is_integrity_ok:\n",
    "    print(\"Fajl nije promijenjen!\")\n",
    "else:\n",
    "    print(\"Fajl je promijenjen!\")"
   ]
  }
 ],
 "metadata": {
  "kernelspec": {
   "display_name": "Python 3",
   "language": "python",
   "name": "python3"
  },
  "language_info": {
   "codemirror_mode": {
    "name": "ipython",
    "version": 3
   },
   "file_extension": ".py",
   "mimetype": "text/x-python",
   "name": "python",
   "nbconvert_exporter": "python",
   "pygments_lexer": "ipython3",
   "version": "3.10.5"
  }
 },
 "nbformat": 4,
 "nbformat_minor": 5
}

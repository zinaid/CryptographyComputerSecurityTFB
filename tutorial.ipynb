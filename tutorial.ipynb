{
 "cells": [
  {
   "cell_type": "markdown",
   "metadata": {},
   "source": [
    "\n",
    "# <div style=\"text-align:center\"> COMPUTER SECURITY </div>\n",
    "### 3rd Year Students\n",
    "### University of Bihac, Faculty of Technical Engineering, Electrical Engineering\n",
    "### Informatics and Computer Science Group\n"
   ]
  },
  {
   "cell_type": "markdown",
   "metadata": {},
   "source": [
    "Through this tutorial we will deal with most famous Cryptography algorithms and their implementations through Python programming language."
   ]
  },
  {
   "cell_type": "markdown",
   "metadata": {},
   "source": [
    "### <div style=\"text-align:center\"> PYTHON INSTALLATION AND NEEDED ELEMENTARY KNOWLEDGE </div>\n",
    "\n",
    "Python is an open source scripting language that belongs in a category of high-interpreted languages, interactive and OOP. It is designed to be readable. Syntax of the Python language is easy to understand because it uses common English words.\n",
    "\n",
    "Python features:\n",
    "* Interpreted - there is no need to compile program before execution (Like PHP or PERL)\n",
    "* Object oriented - Python allows object oriented style and design.\n",
    "* Python allows functional and structural programming and methods\n",
    "* Python can be used as scripting or as a programming language\n",
    "* Python has automatic garbage collection\n",
    "* Python has high dynamical data types and various dynamical type checks\n",
    "* It can be integrated with other languages as C, C++ or Java\n",
    "\n",
    "#### Link for Python download is: www.python.org/downloads\n"
   ]
  },
  {
   "cell_type": "markdown",
   "metadata": {},
   "source": [
    "First we will introduce data types that are going to be used through these exercises:"
   ]
  },
  {
   "cell_type": "markdown",
   "metadata": {},
   "source": [
    "Strings"
   ]
  },
  {
   "cell_type": "code",
   "execution_count": null,
   "metadata": {},
   "outputs": [],
   "source": [
    "str = 'Hello World!'"
   ]
  },
  {
   "cell_type": "markdown",
   "metadata": {},
   "source": [
    "Lists"
   ]
  },
  {
   "cell_type": "code",
   "execution_count": 1,
   "metadata": {},
   "outputs": [],
   "source": [
    "list = ['A', 200, 2.2, 'test', 710.2]"
   ]
  },
  {
   "cell_type": "markdown",
   "metadata": {},
   "source": [
    "Tuples"
   ]
  },
  {
   "cell_type": "code",
   "execution_count": 2,
   "metadata": {},
   "outputs": [],
   "source": [
    "tuple = (1111, 'Zinaid')"
   ]
  },
  {
   "cell_type": "markdown",
   "metadata": {},
   "source": [
    "Dictionary"
   ]
  },
  {
   "cell_type": "code",
   "execution_count": 4,
   "metadata": {},
   "outputs": [],
   "source": [
    "dict = {'firstname': 'Zinaid', 'code': 1234, 'subject': 'SRS'}"
   ]
  },
  {
   "cell_type": "markdown",
   "metadata": {},
   "source": [
    "We are going to use package named \"cryptography\" that has many built cryptography functions. The basic installation of this cryptography package is available through this command:"
   ]
  },
  {
   "cell_type": "code",
   "execution_count": 5,
   "metadata": {},
   "outputs": [
    {
     "name": "stdout",
     "output_type": "stream",
     "text": [
      "Requirement already satisfied: cryptography in c:\\users\\wwtdev - zinaid\\appdata\\local\\programs\\python\\python39\\lib\\site-packages (3.1.1)\n",
      "Requirement already satisfied: cffi!=1.11.3,>=1.8 in c:\\users\\wwtdev - zinaid\\appdata\\local\\programs\\python\\python39\\lib\\site-packages (from cryptography) (1.14.3)\n",
      "Requirement already satisfied: six>=1.4.1 in c:\\users\\wwtdev - zinaid\\appdata\\roaming\\python\\python39\\site-packages (from cryptography) (1.15.0)\n",
      "Requirement already satisfied: pycparser in c:\\users\\wwtdev - zinaid\\appdata\\local\\programs\\python\\python39\\lib\\site-packages (from cffi!=1.11.3,>=1.8->cryptography) (2.20)\n",
      "Note: you may need to restart the kernel to use updated packages.\n"
     ]
    },
    {
     "name": "stderr",
     "output_type": "stream",
     "text": [
      "WARNING: You are using pip version 20.3.3; however, version 22.1.1 is available.\n",
      "You should consider upgrading via the 'c:\\Users\\WWTDev - Zinaid\\AppData\\Local\\Programs\\Python\\Python39\\python.exe -m pip install --upgrade pip' command.\n"
     ]
    }
   ],
   "source": [
    "pip install cryptography"
   ]
  },
  {
   "cell_type": "markdown",
   "metadata": {},
   "source": [
    "Through this course we will use various inbuilt functions, as well many other packages, and many other useful Python commands."
   ]
  },
  {
   "cell_type": "markdown",
   "metadata": {},
   "source": [
    "## <div style=\"text-align:center\">REVERSE CIPHER</div>"
   ]
  },
  {
   "cell_type": "markdown",
   "metadata": {},
   "source": [
    "This algorithm uses pattern of reversing plain text string for creating cipher text. Process for encryption and decryption is the same. For obtaining plain text we only need to reverse cipher text. Ofcourse the main disadvantage of this algorithm is his weakness and is practically useless.\n"
   ]
  },
  {
   "cell_type": "code",
   "execution_count": 6,
   "metadata": {},
   "outputs": [
    {
     "name": "stdout",
     "output_type": "stream",
     "text": [
      "Cipher text is :  rehpic esrever swohs taht noitacilppa na si sihT\n"
     ]
    }
   ],
   "source": [
    "# REVERSE CIPHER\n",
    "message = 'This is an application that shows reverse cipher'\n",
    "translated = '' # Here we save cipher text\n",
    "i = len(message) - 1 # Calculate length of a message\n",
    "\n",
    "while i >= 0: # Here we loop through each position backwards and save in translated variable new char\n",
    "   translated = translated + message[i]\n",
    "   i = i - 1\n",
    "\n",
    "print(\"Cipher text is : \", translated)"
   ]
  },
  {
   "cell_type": "markdown",
   "metadata": {},
   "source": [
    "## <div style=\"text-align:center\">CAESAR CIPHER</div>"
   ]
  }
 ],
 "metadata": {
  "interpreter": {
   "hash": "b2617d6aefb478ed6d75246509090a5306a4c7e68249358d072ce620eed39b1d"
  },
  "kernelspec": {
   "display_name": "Python 3.9.0 64-bit",
   "language": "python",
   "name": "python3"
  },
  "language_info": {
   "codemirror_mode": {
    "name": "ipython",
    "version": 3
   },
   "file_extension": ".py",
   "mimetype": "text/x-python",
   "name": "python",
   "nbconvert_exporter": "python",
   "pygments_lexer": "ipython3",
   "version": "3.9.0"
  },
  "orig_nbformat": 4
 },
 "nbformat": 4,
 "nbformat_minor": 2
}

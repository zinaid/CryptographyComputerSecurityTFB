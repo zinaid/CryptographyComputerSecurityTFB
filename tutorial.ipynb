{
 "cells": [
  {
   "cell_type": "markdown",
   "metadata": {},
   "source": [
    "\n",
    "# <div style=\"text-align:center\"> COMPUTER SECURITY </div>\n",
    "### 3rd Year Students\n",
    "### University of Bihac, Faculty of Technical Engineering, Electrical Engineering\n",
    "### Informatics and Computer Science Group\n"
   ]
  },
  {
   "cell_type": "markdown",
   "metadata": {},
   "source": [
    "Through this tutorial we will deal with most famous Cryptography algorithms and their implementations through Python programming language."
   ]
  },
  {
   "cell_type": "markdown",
   "metadata": {},
   "source": [
    "### <div style=\"text-align:center\"> PYTHON INSTALLATION AND NEEDED ELEMENTARY KNOWLEDGE </div>\n",
    "\n",
    "Python is an open source scripting language that belongs in a category of high-interpreted languages, interactive and OOP. It is designed to be readable. Syntax of the Python language is easy to understand because it uses common English words.\n",
    "\n",
    "Python features:\n",
    "* Interpreted - there is no need to compile program before execution (Like PHP or PERL)\n",
    "* Object oriented - Python allows object oriented style and design.\n",
    "* Python allows functional and structural programming and methods\n",
    "* Python can be used as scripting or as a programming language\n",
    "* Python has automatic garbage collection\n",
    "* Python has high dynamical data types and various dynamical type checks\n",
    "* It can be integrated with other languages as C, C++ or Java\n",
    "\n",
    "#### Link for Python download is: www.python.org/downloads\n"
   ]
  },
  {
   "cell_type": "markdown",
   "metadata": {},
   "source": [
    "First we will introduce data types that are going to be used through these exercises:"
   ]
  },
  {
   "cell_type": "markdown",
   "metadata": {},
   "source": [
    "Strings"
   ]
  },
  {
   "cell_type": "code",
   "execution_count": null,
   "metadata": {},
   "outputs": [],
   "source": [
    "str = 'Hello World!'"
   ]
  },
  {
   "cell_type": "markdown",
   "metadata": {},
   "source": [
    "Lists"
   ]
  },
  {
   "cell_type": "code",
   "execution_count": 1,
   "metadata": {},
   "outputs": [],
   "source": [
    "list = ['A', 200, 2.2, 'test', 710.2]"
   ]
  },
  {
   "cell_type": "markdown",
   "metadata": {},
   "source": [
    "Tuples"
   ]
  },
  {
   "cell_type": "code",
   "execution_count": 2,
   "metadata": {},
   "outputs": [],
   "source": [
    "tuple = (1111, 'Zinaid')"
   ]
  },
  {
   "cell_type": "markdown",
   "metadata": {},
   "source": [
    "Dictionary"
   ]
  },
  {
   "cell_type": "code",
   "execution_count": 4,
   "metadata": {},
   "outputs": [],
   "source": [
    "dict = {'firstname': 'Zinaid', 'code': 1234, 'subject': 'SRS'}"
   ]
  },
  {
   "cell_type": "markdown",
   "metadata": {},
   "source": [
    "We are going to use package named \"cryptography\" that has many built cryptography functions. The basic installation of this cryptography package is available through this command:"
   ]
  },
  {
   "cell_type": "code",
   "execution_count": null,
   "metadata": {},
   "outputs": [],
   "source": [
    "pip install cryptography"
   ]
  },
  {
   "cell_type": "markdown",
   "metadata": {},
   "source": [
    "Through this course we will use various inbuilt functions, as well many other packages, and many other useful Python commands."
   ]
  },
  {
   "cell_type": "markdown",
   "metadata": {},
   "source": [
    "## <div style=\"text-align:center\">REVERSE CIPHER</div>"
   ]
  },
  {
   "cell_type": "markdown",
   "metadata": {},
   "source": [
    "This algorithm uses pattern of reversing plain text string for creating cipher text. Process for encryption and decryption is the same. For obtaining plain text we only need to reverse cipher text. Ofcourse the main disadvantage of this algorithm is his weakness and is practically useless.\n"
   ]
  },
  {
   "cell_type": "code",
   "execution_count": 6,
   "metadata": {},
   "outputs": [
    {
     "name": "stdout",
     "output_type": "stream",
     "text": [
      "Cipher text is :  rehpic esrever swohs taht noitacilppa na si sihT\n"
     ]
    }
   ],
   "source": [
    "# REVERSE CIPHER\n",
    "message = 'This is an application that shows reverse cipher'\n",
    "translated = '' # Here we save cipher text\n",
    "i = len(message) - 1 # Calculate length of a message\n",
    "\n",
    "while i >= 0: # Here we loop through each position backwards and save in translated variable new char\n",
    "   translated = translated + message[i]\n",
    "   i = i - 1\n",
    "\n",
    "print(\"Cipher text is : \", translated)"
   ]
  },
  {
   "cell_type": "markdown",
   "metadata": {},
   "source": [
    "## <div style=\"text-align:center\">CAESAR CIPHER</div>"
   ]
  },
  {
   "cell_type": "markdown",
   "metadata": {},
   "source": [
    "### Caesar Cipher Encryption"
   ]
  },
  {
   "cell_type": "markdown",
   "metadata": {},
   "source": [
    "Caesar Cipher is a simple tehnique and easy encryption method. It is a simple way of cipher substitution. Each letter in plain text is replaced with a letter that has some fixed position in alphabet."
   ]
  },
  {
   "cell_type": "code",
   "execution_count": 7,
   "metadata": {},
   "outputs": [
    {
     "name": "stdout",
     "output_type": "stream",
     "text": [
      "Plain text : CaesarCIPHERAlgorithm\n",
      "Shift : 64\n",
      "Cipher text: OmqemdOUBTQDMxsadufty\n"
     ]
    }
   ],
   "source": [
    "# Defining function\n",
    "def encrypt(text,s):\n",
    "    result = \"\" # Variable for saving the result\n",
    "    for i in range(len(text)): # Looping through entire text\n",
    "        char = text[i]\n",
    "        # chr function has all ascii signs\n",
    "        # ord function returns a position of a character\n",
    "        # encryption of uppercase letters (65-91)\n",
    "        if (char.isupper()):\n",
    "            result += chr((ord(char) + s-65) % 26 + 65)\n",
    "        # encryption of lowercase letters (97-123)\n",
    "        else:\n",
    "            result += chr((ord(char) + s - 97) % 26 + 97)\n",
    "    return result\n",
    "\n",
    "# Checking function\n",
    "text = \"CaesarCIPHERAlgorithm\"\n",
    "s = 64\n",
    "print (\"Plain text : \" + text)\n",
    "print (\"Shift : \" + str(s))\n",
    "print (\"Cipher text: \" + encrypt(text,s))"
   ]
  },
  {
   "cell_type": "markdown",
   "metadata": {},
   "source": [
    "### Caesar Cipher Brute Force Hacking"
   ]
  },
  {
   "cell_type": "code",
   "execution_count": 24,
   "metadata": {},
   "outputs": [
    {
     "name": "stdout",
     "output_type": "stream",
     "text": [
      "Key #0: OMQEMDOUBTQDMXSADUFTY\n",
      "Key #1: NLPDLCNTASPCLWRZCTESX\n",
      "Key #2: MKOCKBMSZROBKVQYBSDRW\n",
      "Key #3: LJNBJALRYQNAJUPXARCQV\n",
      "Key #4: KIMAIZKQXPMZITOWZQBPU\n",
      "Key #5: JHLZHYJPWOLYHSNVYPAOT\n",
      "Key #6: IGKYGXIOVNKXGRMUXOZNS\n",
      "Key #7: HFJXFWHNUMJWFQLTWNYMR\n",
      "Key #8: GEIWEVGMTLIVEPKSVMXLQ\n",
      "Key #9: FDHVDUFLSKHUDOJRULWKP\n",
      "Key #10: ECGUCTEKRJGTCNIQTKVJO\n",
      "Key #11: DBFTBSDJQIFSBMHPSJUIN\n",
      "Key #12: CAESARCIPHERALGORITHM\n",
      "Key #13: BZDRZQBHOGDQZKFNQHSGL\n",
      "Key #14: AYCQYPAGNFCPYJEMPGRFK\n",
      "Key #15: ZXBPXOZFMEBOXIDLOFQEJ\n",
      "Key #16: YWAOWNYELDANWHCKNEPDI\n",
      "Key #17: XVZNVMXDKCZMVGBJMDOCH\n",
      "Key #18: WUYMULWCJBYLUFAILCNBG\n",
      "Key #19: VTXLTKVBIAXKTEZHKBMAF\n",
      "Key #20: USWKSJUAHZWJSDYGJALZE\n",
      "Key #21: TRVJRITZGYVIRCXFIZKYD\n",
      "Key #22: SQUIQHSYFXUHQBWEHYJXC\n",
      "Key #23: RPTHPGRXEWTGPAVDGXIWB\n",
      "Key #24: QOSGOFQWDVSFOZUCFWHVA\n",
      "Key #25: PNRFNEPVCURENYTBEVGUZ\n"
     ]
    }
   ],
   "source": [
    "message = 'OMQEMDOUBTQDMXSADUFTY'\n",
    "\n",
    "LETTERS = 'ABCDEFGHIJKLMNOPQRSTUVWXYZ'\n",
    "\n",
    "for key in range(len(LETTERS)):\n",
    "    translated = ''\n",
    "    for symbol in message:\n",
    "        if symbol in LETTERS:\n",
    "            num = LETTERS.find(symbol)\n",
    "            num = num - key\n",
    "            if num < 0:\n",
    "                num = num + len(LETTERS)\n",
    "                \n",
    "            translated = translated + LETTERS[num]\n",
    "        else:\n",
    "            translated = translated + symbol\n",
    "    print('Key #%s: %s' % (key, translated))\n"
   ]
  },
  {
   "cell_type": "markdown",
   "metadata": {},
   "source": [
    "## <div style=\"text-align:center\">ROT 13 ALGORITHM</div>"
   ]
  },
  {
   "cell_type": "markdown",
   "metadata": {},
   "source": [
    "Rot13 algorithm (Rotate by 13 places) is a special case of Caesar Cipher algorithm with shift equal to 13. Each letter is moved for 13 places to encrypt or decrypt message."
   ]
  },
  {
   "cell_type": "code",
   "execution_count": 26,
   "metadata": {},
   "outputs": [
    {
     "name": "stdout",
     "output_type": "stream",
     "text": [
      "EBG13 Nytbevgnz Cevzwre\n"
     ]
    }
   ],
   "source": [
    "# maketrans function allows to make trans map between each character in first and second string\n",
    "rot13trans = str.maketrans('ABCDEFGHIJKLMNOPQRSTUVWXYZabcdefghijklmnopqrstuvwxyz', \n",
    "   'NOPQRSTUVWXYZABCDEFGHIJKLMnopqrstuvwxyzabcdefghijklm')\n",
    "\n",
    "def rot13(text):\n",
    "   return text.translate(rot13trans)\n",
    "\n",
    "def main():\n",
    "   txt = \"ROT13 Algoritam Primjer\"\n",
    "   print(rot13(txt))\n",
    "\n",
    "if __name__ == \"__main__\":\n",
    "   main()"
   ]
  }
 ],
 "metadata": {
  "interpreter": {
   "hash": "b2617d6aefb478ed6d75246509090a5306a4c7e68249358d072ce620eed39b1d"
  },
  "kernelspec": {
   "display_name": "Python 3.9.0 64-bit",
   "language": "python",
   "name": "python3"
  },
  "language_info": {
   "codemirror_mode": {
    "name": "ipython",
    "version": 3
   },
   "file_extension": ".py",
   "mimetype": "text/x-python",
   "name": "python",
   "nbconvert_exporter": "python",
   "pygments_lexer": "ipython3",
   "version": "3.9.0"
  },
  "orig_nbformat": 4
 },
 "nbformat": 4,
 "nbformat_minor": 2
}

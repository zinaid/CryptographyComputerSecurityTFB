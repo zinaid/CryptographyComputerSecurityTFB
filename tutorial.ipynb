{
 "cells": [
  {
   "cell_type": "markdown",
   "metadata": {},
   "source": [
    "\n",
    "# <div style=\"text-align:center\"> COMPUTER SECURITY </div>\n",
    "### 3rd Year Students\n",
    "### University of Bihac, Faculty of Technical Engineering, Electrical Engineering\n",
    "### Informatics and Computer Science Group\n"
   ]
  },
  {
   "cell_type": "markdown",
   "metadata": {},
   "source": [
    "Through this tutorial we will deal with most famous Cryptography algorithms and their implementations through Python programming language."
   ]
  },
  {
   "cell_type": "markdown",
   "metadata": {},
   "source": [
    "### <div style=\"text-align:center\"> PYTHON INSTALLATION AND NEEDED ELEMENTARY KNOWLEDGE </div>\n",
    "\n",
    "Python is an open source scripting language that belongs in a category of high-interpreted languages, interactive and OOP. It is designed to be readable. Syntax of the Python language is easy to understand because it uses common English words.\n",
    "\n",
    "Python features:\n",
    "* Interpreted - there is no need to compile program before execution (Like PHP or PERL)\n",
    "* Object oriented - Python allows object oriented style and design.\n",
    "* Python allows functional and structural programming and methods\n",
    "* Python can be used as scripting or as a programming language\n",
    "* Python has automatic garbage collection\n",
    "* Python has high dynamical data types and various dynamical type checks\n",
    "* It can be integrated with other languages as C, C++ or Java\n",
    "\n",
    "#### Link for Python download is: www.python.org/downloads\n"
   ]
  },
  {
   "cell_type": "markdown",
   "metadata": {},
   "source": [
    "First we will introduce data types that are going to be used through these exercises:"
   ]
  },
  {
   "cell_type": "markdown",
   "metadata": {},
   "source": [
    "Strings"
   ]
  },
  {
   "cell_type": "code",
   "execution_count": null,
   "metadata": {},
   "outputs": [],
   "source": [
    "str = 'Hello World!'"
   ]
  },
  {
   "cell_type": "markdown",
   "metadata": {},
   "source": [
    "Lists"
   ]
  },
  {
   "cell_type": "code",
   "execution_count": 1,
   "metadata": {},
   "outputs": [],
   "source": [
    "list = ['A', 200, 2.2, 'test', 710.2]"
   ]
  },
  {
   "cell_type": "markdown",
   "metadata": {},
   "source": [
    "Tuples"
   ]
  },
  {
   "cell_type": "code",
   "execution_count": 2,
   "metadata": {},
   "outputs": [],
   "source": [
    "tuple = (1111, 'Zinaid')"
   ]
  },
  {
   "cell_type": "markdown",
   "metadata": {},
   "source": [
    "Dictionary"
   ]
  },
  {
   "cell_type": "code",
   "execution_count": 4,
   "metadata": {},
   "outputs": [],
   "source": [
    "dict = {'firstname': 'Zinaid', 'code': 1234, 'subject': 'SRS'}"
   ]
  },
  {
   "cell_type": "markdown",
   "metadata": {},
   "source": [
    "We are going to use package named \"cryptography\" that has many built cryptography functions. The basic installation of this cryptography package is available through this command:"
   ]
  },
  {
   "cell_type": "code",
   "execution_count": null,
   "metadata": {},
   "outputs": [],
   "source": [
    "pip install cryptography"
   ]
  },
  {
   "cell_type": "markdown",
   "metadata": {},
   "source": [
    "Through this course we will use various inbuilt functions, as well many other packages, and many other useful Python commands."
   ]
  },
  {
   "cell_type": "markdown",
   "metadata": {},
   "source": [
    "## <div style=\"text-align:center\">REVERSE CIPHER</div>"
   ]
  },
  {
   "cell_type": "markdown",
   "metadata": {},
   "source": [
    "This algorithm uses pattern of reversing plain text string for creating cipher text. Process for encryption and decryption is the same. For obtaining plain text we only need to reverse cipher text. Ofcourse the main disadvantage of this algorithm is his weakness and is practically useless.\n"
   ]
  },
  {
   "cell_type": "code",
   "execution_count": 6,
   "metadata": {},
   "outputs": [
    {
     "name": "stdout",
     "output_type": "stream",
     "text": [
      "Cipher text is :  rehpic esrever swohs taht noitacilppa na si sihT\n"
     ]
    }
   ],
   "source": [
    "# REVERSE CIPHER\n",
    "message = 'This is an application that shows reverse cipher'\n",
    "translated = '' # Here we save cipher text\n",
    "i = len(message) - 1 # Calculate length of a message\n",
    "\n",
    "while i >= 0: # Here we loop through each position backwards and save in translated variable new char\n",
    "   translated = translated + message[i]\n",
    "   i = i - 1\n",
    "\n",
    "print(\"Cipher text is : \", translated)"
   ]
  },
  {
   "cell_type": "markdown",
   "metadata": {},
   "source": [
    "## <div style=\"text-align:center\">CAESAR CIPHER</div>"
   ]
  },
  {
   "cell_type": "markdown",
   "metadata": {},
   "source": [
    "### Caesar Cipher Encryption"
   ]
  },
  {
   "cell_type": "markdown",
   "metadata": {},
   "source": [
    "Caesar Cipher is a simple tehnique and easy encryption method. It is a simple way of cipher substitution. Each letter in plain text is replaced with a letter that has some fixed position in alphabet."
   ]
  },
  {
   "cell_type": "code",
   "execution_count": 7,
   "metadata": {},
   "outputs": [
    {
     "name": "stdout",
     "output_type": "stream",
     "text": [
      "Plain text : CaesarCIPHERAlgorithm\n",
      "Shift : 64\n",
      "Cipher text: OmqemdOUBTQDMxsadufty\n"
     ]
    }
   ],
   "source": [
    "# Defining function\n",
    "def encrypt(text,s):\n",
    "    result = \"\" # Variable for saving the result\n",
    "    for i in range(len(text)): # Looping through entire text\n",
    "        char = text[i]\n",
    "        # chr function has all ascii signs\n",
    "        # ord function returns a position of a character\n",
    "        # encryption of uppercase letters (65-91)\n",
    "        if (char.isupper()):\n",
    "            result += chr((ord(char) + s-65) % 26 + 65)\n",
    "        # encryption of lowercase letters (97-123)\n",
    "        else:\n",
    "            result += chr((ord(char) + s - 97) % 26 + 97)\n",
    "    return result\n",
    "\n",
    "# Checking function\n",
    "text = \"CaesarCIPHERAlgorithm\"\n",
    "s = 64\n",
    "print (\"Plain text : \" + text)\n",
    "print (\"Shift : \" + str(s))\n",
    "print (\"Cipher text: \" + encrypt(text,s))"
   ]
  },
  {
   "cell_type": "markdown",
   "metadata": {},
   "source": [
    "### Caesar Cipher Brute Force Hacking"
   ]
  },
  {
   "cell_type": "code",
   "execution_count": 24,
   "metadata": {},
   "outputs": [
    {
     "name": "stdout",
     "output_type": "stream",
     "text": [
      "Key #0: OMQEMDOUBTQDMXSADUFTY\n",
      "Key #1: NLPDLCNTASPCLWRZCTESX\n",
      "Key #2: MKOCKBMSZROBKVQYBSDRW\n",
      "Key #3: LJNBJALRYQNAJUPXARCQV\n",
      "Key #4: KIMAIZKQXPMZITOWZQBPU\n",
      "Key #5: JHLZHYJPWOLYHSNVYPAOT\n",
      "Key #6: IGKYGXIOVNKXGRMUXOZNS\n",
      "Key #7: HFJXFWHNUMJWFQLTWNYMR\n",
      "Key #8: GEIWEVGMTLIVEPKSVMXLQ\n",
      "Key #9: FDHVDUFLSKHUDOJRULWKP\n",
      "Key #10: ECGUCTEKRJGTCNIQTKVJO\n",
      "Key #11: DBFTBSDJQIFSBMHPSJUIN\n",
      "Key #12: CAESARCIPHERALGORITHM\n",
      "Key #13: BZDRZQBHOGDQZKFNQHSGL\n",
      "Key #14: AYCQYPAGNFCPYJEMPGRFK\n",
      "Key #15: ZXBPXOZFMEBOXIDLOFQEJ\n",
      "Key #16: YWAOWNYELDANWHCKNEPDI\n",
      "Key #17: XVZNVMXDKCZMVGBJMDOCH\n",
      "Key #18: WUYMULWCJBYLUFAILCNBG\n",
      "Key #19: VTXLTKVBIAXKTEZHKBMAF\n",
      "Key #20: USWKSJUAHZWJSDYGJALZE\n",
      "Key #21: TRVJRITZGYVIRCXFIZKYD\n",
      "Key #22: SQUIQHSYFXUHQBWEHYJXC\n",
      "Key #23: RPTHPGRXEWTGPAVDGXIWB\n",
      "Key #24: QOSGOFQWDVSFOZUCFWHVA\n",
      "Key #25: PNRFNEPVCURENYTBEVGUZ\n"
     ]
    }
   ],
   "source": [
    "message = 'OMQEMDOUBTQDMXSADUFTY'\n",
    "\n",
    "LETTERS = 'ABCDEFGHIJKLMNOPQRSTUVWXYZ'\n",
    "\n",
    "for key in range(len(LETTERS)):\n",
    "    translated = ''\n",
    "    for symbol in message:\n",
    "        if symbol in LETTERS:\n",
    "            num = LETTERS.find(symbol)\n",
    "            num = num - key\n",
    "            if num < 0:\n",
    "                num = num + len(LETTERS)\n",
    "                \n",
    "            translated = translated + LETTERS[num]\n",
    "        else:\n",
    "            translated = translated + symbol\n",
    "    print('Key #%s: %s' % (key, translated))\n"
   ]
  },
  {
   "cell_type": "markdown",
   "metadata": {},
   "source": [
    "## <div style=\"text-align:center\">ROT 13 ALGORITHM</div>"
   ]
  },
  {
   "cell_type": "markdown",
   "metadata": {},
   "source": [
    "Rot13 algorithm (Rotate by 13 places) is a special case of Caesar Cipher algorithm with shift equal to 13. Each letter is moved for 13 places to encrypt or decrypt message."
   ]
  },
  {
   "cell_type": "code",
   "execution_count": 26,
   "metadata": {},
   "outputs": [
    {
     "name": "stdout",
     "output_type": "stream",
     "text": [
      "EBG13 Nytbevgnz Cevzwre\n"
     ]
    }
   ],
   "source": [
    "# maketrans function allows to make trans map between each character in first and second string\n",
    "rot13trans = str.maketrans('ABCDEFGHIJKLMNOPQRSTUVWXYZabcdefghijklmnopqrstuvwxyz', \n",
    "   'NOPQRSTUVWXYZABCDEFGHIJKLMnopqrstuvwxyzabcdefghijklm')\n",
    "\n",
    "def rot13(text):\n",
    "   return text.translate(rot13trans)\n",
    "\n",
    "def main():\n",
    "   txt = \"ROT13 Algoritam Primjer\"\n",
    "   print(rot13(txt))\n",
    "\n",
    "if __name__ == \"__main__\":\n",
    "   main()"
   ]
  },
  {
   "cell_type": "markdown",
   "metadata": {},
   "source": [
    "## <div style=\"text-align:center\">TRANSPOSITION ALGORITHM</div>"
   ]
  },
  {
   "cell_type": "markdown",
   "metadata": {},
   "source": [
    "### Transposition Algorithm Encryption"
   ]
  },
  {
   "cell_type": "code",
   "execution_count": 8,
   "metadata": {},
   "outputs": [
    {
     "name": "stdout",
     "output_type": "stream",
     "text": [
      "Tig.rtoairnoisntp hoamsl |\n"
     ]
    }
   ],
   "source": [
    "import pyperclip\n",
    "\n",
    "def main():\n",
    "    msg = 'Transposition algorithm .'\n",
    "    key = 8\n",
    "    ciphertext = encryptMessage(msg, key)\n",
    "\n",
    "    # sign | is called a pipe sign and is used to distinquish blank spaces at the end\n",
    "    print(ciphertext + '|')\n",
    "\n",
    "    pyperclip.copy(ciphertext)\n",
    "\n",
    "def encryptMessage(msg, key):\n",
    "    # Each string in ciphertext represents a column in a net\n",
    "    ciphertext = [''] * key # Here we create a list of 8 empty strings\n",
    "    # Now we loop through for loop in range of 0-7\n",
    "    for col in range(key):\n",
    "        pointer = col\n",
    "        # move through loop while pinter doesn't cross a message length (this case 30)\n",
    "        while pointer < len(msg):\n",
    "        # put character in the place of a pointer in message at the end of the looped column in cipher list\n",
    "            ciphertext[col] += msg[pointer]\n",
    "            # move pointer for a value of a key (first iteration in while loop is 0, then 8,16,24)\n",
    "            # pomakni pointer za vrijednost kljuca (dakle prva iteracija u while loop je 0, 8, 16, 24)\n",
    "            pointer += key\n",
    "# Combining elements of a list into a string\n",
    "    return ''.join(ciphertext)\n",
    "\n",
    "if __name__ == '__main__':\n",
    "    main()"
   ]
  },
  {
   "cell_type": "markdown",
   "metadata": {},
   "source": [
    "### Transposition Algorithm Decryption"
   ]
  },
  {
   "cell_type": "code",
   "execution_count": 9,
   "metadata": {},
   "outputs": [
    {
     "name": "stdout",
     "output_type": "stream",
     "text": [
      "Transposition algorithm .|\n"
     ]
    }
   ],
   "source": [
    "import math, pyperclip\n",
    "\n",
    "def main():\n",
    "    msg = 'Tig.rtoairnoisntp hoamsl '\n",
    "    key = 8\n",
    "    plaintext = decryptMessage(key, msg)    \n",
    "    print(plaintext + '|')\n",
    "    pyperclip.copy(plaintext)\n",
    "\n",
    "def decryptMessage(key, poruka):\n",
    "\n",
    "    numOfColumns = math.ceil(len(poruka) / key) # getting the number of columns\n",
    "    numOfRows = key # getting the number of rows\n",
    "    numOfShadedBoxes = (numOfColumns * numOfRows) - len(poruka) # number of shaded cells in the last column\n",
    "\n",
    "    # Each string in plain text represents a column in a net\n",
    "    plaintext = [''] * numOfColumns\n",
    "    # variables col and row represents place of a character in a net\n",
    "    col = 0\n",
    "    row = 0\n",
    "\n",
    "    # For loop moves through characters in a string\n",
    "    for symbol in poruka:\n",
    "        plaintext[col] += symbol\n",
    "        col += 1\n",
    "        if (col == numOfColumns) or (col == numOfColumns - 1 and row >= numOfRows - numOfShadedBoxes):\n",
    "            col = 0\n",
    "            row += 1\n",
    "\n",
    "    return ''.join(plaintext)\n",
    "\n",
    "if __name__ == '__main__':\n",
    "    main()"
   ]
  },
  {
   "cell_type": "markdown",
   "metadata": {},
   "source": [
    "### Automated tests - Testing the work of a Transposition Algorithm"
   ]
  },
  {
   "cell_type": "code",
   "execution_count": 7,
   "metadata": {},
   "outputs": [
    {
     "name": "stdout",
     "output_type": "stream",
     "text": [
      "Test #1: \"JEQLDFKJZWALCOYACUPLTRRMLWHOBXQNEAWSLGWAGQQSRSIUIQ...\"\n",
      "Test #2: \"SWRCLUCRDOMLWZKOMAGVOTXUVVEPIOJMSBEQRQOFRGCCKENINV...\"\n",
      "Test #3: \"BIZBPZUIWDUFXAPJTHCMDWEGHYOWKWWWSJYKDQVSFWCJNCOZZA...\"\n",
      "Test #4: \"JEWBCEXVZAILLCHDZJCUTXASSZZRKRPMYGTGHBXPQPBEBVCODM...\"\n",
      "Test #5: \"DMMEDKAHCZJDBNCCCZNENAOSJUKGHGUANOCHFGSEVDOMYHVBRK...\"\n",
      "Test #6: \"WPOWKFRGLWZFRPXYPDUQADOXPGEABHKNMDLYTITYOBEATVLAIB...\"\n",
      "Test #7: \"KVNJOCYPGIUNVLPRZFFAESDUTZRMDKRSSAWQIWXWCPGWUISLHP...\"\n",
      "Test #8: \"RMVZKCBLEFVZSLTEUGCQRJUWQWQILELVNTGHONBIXNJGTRMGHH...\"\n",
      "Test #9: \"PVHJOFQJRGXYXFFRRJZTQXRFLWVHPQSHNYOZRJSKJFNRIGQYCH...\"\n",
      "Test #10: \"CFWPWYEKXSREXTZZLITJIXIXESHFJCSPLVZQTMWBRTSYBEDCHK...\"\n",
      "Test #11: \"QNUZXADCRFYBODYWYJZTPFMGYNWNKGYUBCJXHSSPIIWYYRXCXK...\"\n",
      "Test #12: \"DZSEKFURFHNLMFRITPTNQWEVVJVDSBOUUFKXZJNRXHANWCBEYX...\"\n",
      "Test #13: \"FXCAYLCKJIACMGATEPYLHAHVSMTHIHDHNBBNFWVXURLVADSGDB...\"\n",
      "Test #14: \"QKGAZJEFOIWILSENDNVWZUBLSRVHEEDFUSFNMOURJKPAIRWXMG...\"\n",
      "Test #15: \"WHXYUOUIJQLVDKKSZBTPYOHHGAJFUGILNMQAWTMUOICNFIOJXO...\"\n",
      "Test #16: \"GMZMPQAMZDMWCMDMCLUOSWDRJZBVPKYGZDXCWOUVIQLLECWSMU...\"\n",
      "Test #17: \"KPKHHLPUWPSSIOULGKVEFHZOKBFHXUKVSEOWOENOZSNIDELAWR...\"\n",
      "Test #18: \"OYLFXXZENDFGSXTEAHGHPBNORCFEPBMITILSSJRGDVMNSOMURV...\"\n",
      "Test #19: \"SOCLYBRVDPLNVJKAFDGHCQMXIOPEJSXEAAXNWCCYAGZGLZGZHK...\"\n",
      "Test #20: \"JXJGRBCKZXPUIEXOJUNZEYYSEAEGVOJWIRTSSGPUWPNZUBQNDA...\"\n",
      "Transposition cipher test passed.\n"
     ]
    }
   ],
   "source": [
    "import random, sys\n",
    "from TranspositionCipher import TranspositionCipherEncryption, TranspositionCipherDecryption\n",
    "\n",
    "def main():\n",
    "    random.seed(42) # random.seed() is used when we want to repeat experiment sequence\n",
    "\n",
    "    for i in range(20): # 20 tests\n",
    "        message = 'ABCDEFGHIJKLMNOPQRSTUVWXYZ' * random.randint(4, 40)\n",
    "\n",
    "        message = list(message)\n",
    "        random.shuffle(message)\n",
    "        message = ''.join(message) \n",
    "\n",
    "        print('Test #%s: \"%s...\"' % (i + 1, message[:50]))\n",
    "        for key in range(1, int(len(message)/2)):\n",
    "            encrypted = TranspositionCipherEncryption.encryptMessage(message, key)\n",
    "            decrypted = TranspositionCipherDecryption.decryptMessage(key, encrypted)\n",
    "            if message != decrypted:\n",
    "                print('Mismatch with key %s and message %s.' % (key, message))\n",
    "                print('Decrypted as: ' + decrypted)\n",
    "                sys.exit()\n",
    "    print('Transposition cipher test passed.')\n",
    "\n",
    "if __name__ == '__main__':\n",
    "   main()"
   ]
  },
  {
   "cell_type": "markdown",
   "metadata": {},
   "source": [
    "## <div style=\"text-align:center\">FILE CRYPTING</div>"
   ]
  },
  {
   "cell_type": "markdown",
   "metadata": {},
   "source": [
    "In this excercise we will showcase encryption and decryption of files using Python. We will learn how to read, write and modify .txt files using Python."
   ]
  },
  {
   "cell_type": "code",
   "execution_count": null,
   "metadata": {},
   "outputs": [],
   "source": [
    "%pip install wheel\n",
    "%pip install pycryptodome "
   ]
  },
  {
   "cell_type": "code",
   "execution_count": 17,
   "metadata": {},
   "outputs": [
    {
     "name": "stdout",
     "output_type": "stream",
     "text": [
      "Decrypting...\n",
      "Decryption time: 0.08 seconds\n",
      "Done decrypting files/frankenstein.encrypted.txt (441034 characters).\n",
      "Decrypted file is files/frankenstein.decrypted.txt.\n"
     ]
    }
   ],
   "source": [
    "import time, os, sys\n",
    "from TranspositionCipher import TranspositionCipherEncryption, TranspositionCipherDecryption\n",
    "\n",
    "def main():\n",
    "   inputFilename = 'files/frankenstein.encrypted.txt'\n",
    "\n",
    "   outputFilename = 'files/frankenstein.decrypted.txt' # encrypted for encryption, decrypted for decryption\n",
    "   myKey = 10\n",
    "   myMode = 'decrypt' # here we choose mode\n",
    "\n",
    "   if not os.path.exists(inputFilename):\n",
    "      print('The file %s does not exist. Quitting...' % (inputFilename))\n",
    "      sys.exit()\n",
    "\n",
    "   if os.path.exists(outputFilename):\n",
    "         print('This will overwrite the file %s. (C)ontinue or (Q)uit?' % (outputFilename))\n",
    "         response = input('> ')\n",
    "         if not response.lower().startswith('c'):\n",
    "            sys.exit()\n",
    "   \n",
    "   fileObj = open(inputFilename)\n",
    "   content = fileObj.read()\n",
    "   fileObj.close()\n",
    "\n",
    "   print('%sing...' % (myMode.title()))\n",
    "\n",
    "   startTime = time.time()\n",
    "   if myMode == 'encrypt':\n",
    "      translated = TranspositionCipherEncryption.encryptMessage(content, myKey)\n",
    "   elif myMode == 'decrypt':\n",
    "      translated = TranspositionCipherDecryption.decryptMessage(myKey, content)\n",
    "         \n",
    "   totalTime = round(time.time() - startTime, 2)\n",
    "   print('%sion time: %s seconds' % (myMode.title(), totalTime))\n",
    "\n",
    "   outputFileObj = open(outputFilename, 'w')\n",
    "   outputFileObj.write(translated)\n",
    "   outputFileObj.close()\n",
    "\n",
    "   print('Done %sing %s (%s characters).' % (myMode, inputFilename, len(content)))\n",
    "   print('%sed file is %s.' % (myMode.title(), outputFilename))\n",
    "\n",
    "if __name__ == '__main__':\n",
    "   main()"
   ]
  },
  {
   "cell_type": "markdown",
   "metadata": {},
   "source": [
    "## <div style=\"text-align:center\">BASE 64</div>"
   ]
  },
  {
   "cell_type": "markdown",
   "metadata": {},
   "source": [
    "Base64 coding converts binary data into a txt format. Python modul BASE64 has two main functions: base64.decode(...) and base64.encode(...)"
   ]
  },
  {
   "cell_type": "code",
   "execution_count": 20,
   "metadata": {},
   "outputs": [
    {
     "name": "stdout",
     "output_type": "stream",
     "text": [
      "Press E for encoding and D for decoding. Any other character will quit program.\n",
      "Result: Testing encryption\n"
     ]
    }
   ],
   "source": [
    "import base64\n",
    "  \n",
    "def encode(msg):\n",
    "    sample_string_bytes = msg.encode(\"ascii\")\n",
    "    \n",
    "    base64_bytes = base64.b64encode(sample_string_bytes)\n",
    "    result = base64_bytes.decode(\"ascii\")\n",
    "    return result\n",
    "\n",
    "def decode(msg):\n",
    "    base64_string = msg\n",
    "    base64_bytes = base64_string.encode(\"ascii\")\n",
    "    \n",
    "    sample_string_bytes = base64.b64decode(base64_bytes)\n",
    "    result = sample_string_bytes.decode(\"ascii\")\n",
    "    return result\n",
    "\n",
    "def main():\n",
    "    \n",
    "    print('Press E for encoding and D for decoding. Any other character will quit program.')\n",
    "    option = input()\n",
    "    if(str.lower(option) == 'e'):\n",
    "        msg =\"Testing encryption\"\n",
    "        print(f\"Result: {encode(msg)}\")\n",
    "    elif(str.lower(option) == 'd'):\n",
    "        msg =\"VGVzdGluZyBlbmNyeXB0aW9u\"\n",
    "        print(f\"Result: {decode(msg)}\")\n",
    "    else:\n",
    "        sys.exit()\n",
    "\n",
    "if __name__ == '__main__':\n",
    "   main()\n"
   ]
  },
  {
   "cell_type": "markdown",
   "metadata": {},
   "source": [
    "## <div style=\"text-align:center\">AFFINE CIPHER</div>"
   ]
  },
  {
   "cell_type": "markdown",
   "metadata": {},
   "source": [
    "First we are going to create file cryptohelp.py in which we implement function for finding congruent modulo. It uses function from the math library for finding the greatest common divider (Eratosten algorithm)"
   ]
  },
  {
   "cell_type": "code",
   "execution_count": 21,
   "metadata": {},
   "outputs": [],
   "source": [
    "import math\n",
    "\n",
    "def findModInverse(a, m): \n",
    "        # Returns modulo inverse of a % m where a*x % m = 1\n",
    "        for x in range(1, m):\n",
    "            if (((a%m) * (x%m)) % m == 1):\n",
    "                return x\n",
    "        return -1"
   ]
  },
  {
   "cell_type": "code",
   "execution_count": 22,
   "metadata": {},
   "outputs": [
    {
     "name": "stdout",
     "output_type": "stream",
     "text": [
      "Key: 2894\n",
      "Encrypted text:\n",
      "PaiLARuQLXaQ5!u96ALXo\n",
      "Full encrypted text copied to clipboard.\n"
     ]
    }
   ],
   "source": [
    "import sys, pyperclip, math, random\n",
    "from AffineCipher import cryptohelp\n",
    "\n",
    "SYMBOLS = 'ABCDEFGHIJKLMNOPQRSTUVWXYZabcdefghijklmnopqrstuvwxyz1234567890 !?.'\n",
    "\n",
    "def main():\n",
    "    myMessage = \"Testing the Algorithm\"\n",
    "    myKey = 2894\n",
    "    myMode = 'encrypt'\n",
    "    \n",
    "    if myMode == 'encrypt':\n",
    "        translated = encryptMessage(myKey, myMessage)\n",
    "    elif myMode == 'decrypt':\n",
    "        translated = decryptMessage(myKey, myMessage)\n",
    "\n",
    "    print('Key: %s' % (myKey))\n",
    "    print('%sed text:' % (myMode.title()))\n",
    "    print(translated)\n",
    "    pyperclip.copy(translated)\n",
    "    print('Full %sed text copied to clipboard.' % (myMode))\n",
    "\n",
    "# Unlike Caesar cipher that uses sum with one key, Affine cipher uses multiplication and addition with two integer keys Key A and Key B\n",
    "# Because it is easiear to remember one key, we will mathematically get other two and reverse\n",
    "\n",
    "def getKeyParts(key):\n",
    "    keyA = key // len(SYMBOLS)\n",
    "    keyB = key % len(SYMBOLS)\n",
    "    return (keyA, keyB)\n",
    "\n",
    "def checkKeys(keyA, keyB, mode):\n",
    "    # Key A must be different than 1\n",
    "    if keyA == 1 and mode == 'encrypt':\n",
    "        sys.exit('Cipher is weak if key A is 1. Choose a different key.')\n",
    "    # Key B must be different than 0\n",
    "    if keyB == 0 and mode == 'encrypt':\n",
    "        sys.exit('Cipher is weak if key B is 0. Choose a different key.')\n",
    "    # Key A can't be smaller than 0 and has to be in rage of 0 to the length of symbols - 1\n",
    "    if keyA < 0 or keyB < 0 or keyB > len(SYMBOLS) - 1:\n",
    "        sys.exit('Key A must be greater than 0 and Key B must be between 0 and %s.' % (len(SYMBOLS) - 1))\n",
    "    # Key A and length of the symbols must be relatively prime numbers\n",
    "    if math.gcd(keyA, len(SYMBOLS)) != 1:\n",
    "        sys.exit('Key A (%s) and the symbol set size (%s) are not relatively prime. Choose a different key.' % (keyA, len(SYMBOLS)))\n",
    "\n",
    "\n",
    "def encryptMessage(key, message):\n",
    "    keyA, keyB = getKeyParts(key)\n",
    "    checkKeys(keyA, keyB, 'encrypt')\n",
    "    ciphertext = ''\n",
    "    for symbol in message:\n",
    "        if symbol in SYMBOLS:\n",
    "            symbolIndex = SYMBOLS.find(symbol)\n",
    "            # In cipher text add Symbol on a position (symbolIndex * key A + key B) % length of Symbols\n",
    "            ciphertext += SYMBOLS[(symbolIndex * keyA + keyB) % len(SYMBOLS)]\n",
    "        else:\n",
    "            ciphertext += symbol\n",
    "    return ciphertext\n",
    "\n",
    "def decryptMessage(key, message):\n",
    "    keyA, keyB = getKeyParts(key)\n",
    "    checkKeys(keyA, keyB, 'decrypt')\n",
    "    plaintext = ''\n",
    "    # activate function for finding modulo inverse from the script cryptohelp\n",
    "    modInverseOfKeyA = cryptohelp.findModInverse(keyA, len(SYMBOLS))\n",
    "    for symbol in message:\n",
    "        if symbol in SYMBOLS:\n",
    "            symbolIndex = SYMBOLS.find(symbol)\n",
    "            plaintext += SYMBOLS[(symbolIndex - keyB) * modInverseOfKeyA % len(SYMBOLS)]\n",
    "        else:\n",
    "            plaintext += symbol\n",
    "    return plaintext\n",
    "\n",
    "if __name__ == '__main__':\n",
    "    main()"
   ]
  },
  {
   "cell_type": "markdown",
   "metadata": {},
   "source": [
    "## <div style=\"text-align:center\">VIGENERE CIPHER</div>"
   ]
  },
  {
   "cell_type": "markdown",
   "metadata": {},
   "source": [
    "Unlike Caesar Cipher, Vigenere cipher has more than one key. Vigenere cipher belongs to polyalphabetic substitution cipher. Unlike, a common substitution cipher, frequency analysis alone can't penetrate Vigenere cipher. Instead using numeric keys between 0-25 like in Caesar Cipher, we use letters for keys in Vigenere cipher.\n",
    "\n",
    "Vigenere key is a series of letters, for an example some english word that is divided in multiple one letter subkey that encrypts letters in plaintext. If we say that TEST is a key, first letter T is used for first letter in plain text, E for second, and so on.\n"
   ]
  },
  {
   "cell_type": "code",
   "execution_count": 25,
   "metadata": {},
   "outputs": [
    {
     "name": "stdout",
     "output_type": "stream",
     "text": [
      "Encrypted message:\n",
      "Wejw ccvv tnlju hvai.\n",
      "Message is copied in clipboard.\n"
     ]
    }
   ],
   "source": [
    "import pyperclip\n",
    "\n",
    "LETTERS = 'ABCDEFGHIJKLMNOPQRSTUVWXYZ'\n",
    "\n",
    "def main():\n",
    "    myMessage = \"Here goes entry text.\"\n",
    "    myKey = 'PASSWORD'\n",
    "    myMode = 'encrypt'\n",
    "    if myMode == 'encrypt':\n",
    "        translated = encryptMessage(myKey, myMessage)\n",
    "    elif myMode == 'decrypt':\n",
    "        translated = decryptMessage(myKey, myMessage)\n",
    "    \n",
    "    print('%sed message:' % (myMode.title()))\n",
    "    print(translated)\n",
    "    pyperclip.copy(translated)\n",
    "    print('Message is copied in clipboard.')\n",
    "\n",
    "def encryptMessage(key, message):\n",
    "    return translateMessage(key, message, 'encrypt')\n",
    "\n",
    "def decryptMessage(key, message):\n",
    "    return translateMessage(key, message, 'decrypt')\n",
    "\n",
    "def translateMessage(key, message, mode):\n",
    "    translated = [] \n",
    "    keyIndex = 0\n",
    "    key = key.upper() \n",
    "    for symbol in message: \n",
    "        num = LETTERS.find(symbol.upper())\n",
    "        if num != -1: \n",
    "            if mode == 'encrypt':\n",
    "                num += LETTERS.find(key[keyIndex]) \n",
    "            elif mode == 'decrypt':\n",
    "                num -= LETTERS.find(key[keyIndex]) \n",
    "            \n",
    "            num %= len(LETTERS) \n",
    "\n",
    "            if symbol.isupper():\n",
    "                translated.append(LETTERS[num])\n",
    "            elif symbol.islower():\n",
    "                translated.append(LETTERS[num].lower())\n",
    "    \n",
    "            keyIndex += 1\n",
    "            if keyIndex == len(key):\n",
    "                keyIndex = 0\n",
    "        else:\n",
    "            translated.append(symbol)\n",
    "\n",
    "    return ''.join(translated)\n",
    "\n",
    "if __name__ == '__main__':\n",
    "    main()"
   ]
  },
  {
   "cell_type": "markdown",
   "metadata": {},
   "source": [
    "## <div style=\"text-align:center\">ONE TIME PAD</div>"
   ]
  },
  {
   "cell_type": "markdown",
   "metadata": {},
   "source": [
    "One time cipher is a Vigenere type cipher that has the same length of a key and message that is encrypted. Key is made from a random symbols. Key is used only once and never more. Key is named Pad. Key and plain text are calculated as a modulo 10/26/2. Every key is used only once and is destroyed by sender and reciever. There are two copies of a key, one for a reciever and one for sender."
   ]
  },
  {
   "cell_type": "code",
   "execution_count": null,
   "metadata": {},
   "outputs": [],
   "source": [
    "%pip install onetimepad"
   ]
  },
  {
   "cell_type": "code",
   "execution_count": 26,
   "metadata": {},
   "outputs": [
    {
     "name": "stdout",
     "output_type": "stream",
     "text": [
      "Cipher text is \n",
      "3d0f0b443b041f044e27061d1a041c\n",
      "Plain text is \n",
      "One Time Cipher\n"
     ]
    }
   ],
   "source": [
    "import onetimepad\n",
    "\n",
    "cipher = onetimepad.encrypt('One Time Cipher', 'random')\n",
    "print(\"Cipher text is \")\n",
    "print(cipher)\n",
    "print(\"Plain text is \")\n",
    "msg = onetimepad.decrypt(cipher, 'random')\n",
    "\n",
    "print(msg)"
   ]
  }
 ],
 "metadata": {
  "interpreter": {
   "hash": "b2617d6aefb478ed6d75246509090a5306a4c7e68249358d072ce620eed39b1d"
  },
  "kernelspec": {
   "display_name": "Python 3.9.0 64-bit",
   "language": "python",
   "name": "python3"
  },
  "language_info": {
   "codemirror_mode": {
    "name": "ipython",
    "version": 3
   },
   "file_extension": ".py",
   "mimetype": "text/x-python",
   "name": "python",
   "nbconvert_exporter": "python",
   "pygments_lexer": "ipython3",
   "version": "3.9.0"
  },
  "orig_nbformat": 4
 },
 "nbformat": 4,
 "nbformat_minor": 2
}
